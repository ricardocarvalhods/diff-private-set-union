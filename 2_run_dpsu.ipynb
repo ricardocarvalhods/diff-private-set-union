{
 "cells": [
  {
   "cell_type": "code",
   "execution_count": 1,
   "id": "a7446fdd-7fb9-4287-8116-8019c118721e",
   "metadata": {},
   "outputs": [],
   "source": [
    "from utils import get_sensitive_preprocessed_data, get_public_histogram\n",
    "from dpsu_policy import run_policy\n",
    "from dpsu_gw import run_gw\n",
    "import numpy as np"
   ]
  },
  {
   "cell_type": "markdown",
   "id": "effda74b-79b6-4c3b-9308-4ab9162426aa",
   "metadata": {},
   "source": [
    "# Load sensitive datasets"
   ]
  },
  {
   "cell_type": "code",
   "execution_count": 2,
   "id": "935398ef-708c-4f66-8427-3124577f4f8c",
   "metadata": {},
   "outputs": [],
   "source": [
    "sensitive_data_dict = {}"
   ]
  },
  {
   "cell_type": "code",
   "execution_count": 3,
   "id": "7bc6c323-3d77-48e1-b55e-7f2cd20d8b5d",
   "metadata": {},
   "outputs": [
    {
     "name": "stdout",
     "output_type": "stream",
     "text": [
      "reddit\n",
      "File data/reddit_cleaned.csv does NOT exist. Skipping...\n",
      "\n",
      "twitter\n",
      "File data/twitter_cleaned.csv does NOT exist. Skipping...\n",
      "\n",
      "finance\n"
     ]
    },
    {
     "name": "stderr",
     "output_type": "stream",
     "text": [
      "100%|██████████| 1400465/1400465 [03:05<00:00, 7560.21it/s]\n"
     ]
    }
   ],
   "source": [
    "for sensitive_dataset_name in ['reddit', 'twitter', 'finance']:\n",
    "    print(sensitive_dataset_name)\n",
    "    sensitive_data_dict[sensitive_dataset_name] = get_sensitive_preprocessed_data(sensitive_dataset_name)"
   ]
  },
  {
   "cell_type": "markdown",
   "id": "e533a56c-8e5c-4283-9417-ee9d03f0dd97",
   "metadata": {},
   "source": [
    "# Load public datasets"
   ]
  },
  {
   "cell_type": "code",
   "execution_count": 4,
   "id": "8b29f89c-9e97-4332-9652-cb41610c6c81",
   "metadata": {},
   "outputs": [],
   "source": [
    "public_data_dict = {}"
   ]
  },
  {
   "cell_type": "code",
   "execution_count": 5,
   "id": "8008065d-fe43-4332-ae3a-48c27f0ff75c",
   "metadata": {},
   "outputs": [
    {
     "name": "stdout",
     "output_type": "stream",
     "text": [
      "imdb\n"
     ]
    },
    {
     "name": "stderr",
     "output_type": "stream",
     "text": [
      "100%|██████████| 50000/50000 [00:12<00:00, 3917.62it/s]\n"
     ]
    },
    {
     "name": "stdout",
     "output_type": "stream",
     "text": [
      "covid\n",
      "File data/covid_cleaned.csv does NOT exist. Skipping...\n",
      "\n",
      "songs\n",
      "File data/songs_cleaned.csv does NOT exist. Skipping...\n",
      "\n",
      "wikipedia\n",
      "File data/wikipedia_cleaned.csv does NOT exist. Skipping...\n",
      "\n",
      "enron\n",
      "File data/enron_cleaned.csv does NOT exist. Skipping...\n",
      "\n"
     ]
    }
   ],
   "source": [
    "for public_dataset_name in ['imdb', 'covid', 'songs', 'wikipedia', 'enron']:\n",
    "    print(public_dataset_name)\n",
    "    public_data_dict[public_dataset_name] = get_public_histogram(public_dataset_name)"
   ]
  },
  {
   "cell_type": "markdown",
   "id": "a144f50d-3cf9-4aba-89d6-17fe933e983d",
   "metadata": {},
   "source": [
    "# Experiments"
   ]
  },
  {
   "cell_type": "markdown",
   "id": "4003c7dd-aafc-4aaa-9ee3-10a304887128",
   "metadata": {},
   "source": [
    "## Settings"
   ]
  },
  {
   "cell_type": "code",
   "execution_count": 6,
   "id": "cae32388-2d32-4a9b-b8c3-b2d3ae228fa9",
   "metadata": {},
   "outputs": [],
   "source": [
    "main_dataset = 'finance' # One of: 'reddit', 'twitter', 'finance'\n",
    "\n",
    "dp_epsilon = 3\n",
    "dp_delta = np.exp(-10)\n",
    "\n",
    "alpha = 3"
   ]
  },
  {
   "cell_type": "code",
   "execution_count": 7,
   "id": "ca186f38-bc81-4127-95ed-e1f30ea5c961",
   "metadata": {},
   "outputs": [],
   "source": [
    "# ONLY for GW-KT\n",
    "public_dataset = 'imdb' # One of: 'imdb', 'covid', 'songs', 'wikipedia', 'enron'"
   ]
  },
  {
   "cell_type": "code",
   "execution_count": 8,
   "id": "5ca74821-0ebe-4f1e-a694-ad54bae2e09a",
   "metadata": {},
   "outputs": [],
   "source": [
    "# ONLY for Policy \n",
    "Delta_0 = 100"
   ]
  },
  {
   "cell_type": "code",
   "execution_count": 9,
   "id": "2a2b302e-e6cf-4be6-bcb0-2e0d04d75136",
   "metadata": {},
   "outputs": [],
   "source": [
    "# Define datasets\n",
    "input_df = sensitive_data_dict[main_dataset]\n",
    "public_df = public_data_dict[public_dataset]"
   ]
  },
  {
   "cell_type": "markdown",
   "id": "1948ee59-ea49-40e8-9532-1fd064a9975c",
   "metadata": {},
   "source": [
    "## Run GW"
   ]
  },
  {
   "cell_type": "code",
   "execution_count": 10,
   "id": "32a88cb7-1a4b-4273-b853-6daf7edd00a0",
   "metadata": {},
   "outputs": [
    {
     "name": "stderr",
     "output_type": "stream",
     "text": [
      "100%|██████████| 1400465/1400465 [00:14<00:00, 96237.64it/s] \n"
     ]
    },
    {
     "data": {
      "text/plain": [
       "49864"
      ]
     },
     "execution_count": 10,
     "metadata": {},
     "output_type": "execute_result"
    }
   ],
   "source": [
    "# Run GW\n",
    "run_gw(input_df, alpha, dp_epsilon, dp_delta, 'ci', None)"
   ]
  },
  {
   "cell_type": "markdown",
   "id": "b7e40114-d866-4303-b5f2-6823956f0f7a",
   "metadata": {},
   "source": [
    "# Run GW-KT"
   ]
  },
  {
   "cell_type": "code",
   "execution_count": 11,
   "id": "7455c88b-b372-4b87-8069-8ba1276ff7f8",
   "metadata": {},
   "outputs": [
    {
     "name": "stderr",
     "output_type": "stream",
     "text": [
      "100%|██████████| 1400465/1400465 [00:15<00:00, 88381.95it/s] \n"
     ]
    },
    {
     "data": {
      "text/plain": [
       "50470"
      ]
     },
     "execution_count": 11,
     "metadata": {},
     "output_type": "execute_result"
    }
   ],
   "source": [
    "# Run GW\n",
    "run_gw(input_df, alpha, dp_epsilon, dp_delta, 'kt-ci', public_df)"
   ]
  },
  {
   "cell_type": "markdown",
   "id": "797c5128-333a-4602-be88-5b9d42815ce2",
   "metadata": {},
   "source": [
    "## Run Policy Laplace"
   ]
  },
  {
   "cell_type": "code",
   "execution_count": 12,
   "id": "5d74dcc5-5d9c-4915-9f3b-7e214b32010d",
   "metadata": {},
   "outputs": [
    {
     "name": "stderr",
     "output_type": "stream",
     "text": [
      "100%|██████████| 1400465/1400465 [00:13<00:00, 104644.17it/s]\n"
     ]
    },
    {
     "data": {
      "text/plain": [
       "43774"
      ]
     },
     "execution_count": 12,
     "metadata": {},
     "output_type": "execute_result"
    }
   ],
   "source": [
    "# Run Pol. LAPLACE\n",
    "run_policy(input_df, Delta_0, 'LAPLACE', alpha, dp_epsilon, dp_delta)"
   ]
  },
  {
   "cell_type": "markdown",
   "id": "e749c3fb-810d-4063-a813-7d2827f3c96b",
   "metadata": {},
   "source": [
    "## Run Policy Gaussian"
   ]
  },
  {
   "cell_type": "code",
   "execution_count": 13,
   "id": "391172f2-bc44-43c3-96b5-2f86f09ba460",
   "metadata": {},
   "outputs": [
    {
     "name": "stderr",
     "output_type": "stream",
     "text": [
      "100%|██████████| 1400465/1400465 [00:31<00:00, 44622.06it/s]\n"
     ]
    },
    {
     "data": {
      "text/plain": [
       "41403"
      ]
     },
     "execution_count": 13,
     "metadata": {},
     "output_type": "execute_result"
    }
   ],
   "source": [
    "# Run Pol. GAUSSIAN\n",
    "run_policy(input_df, Delta_0, 'GAUSSIAN', alpha, dp_epsilon, dp_delta)"
   ]
  },
  {
   "cell_type": "code",
   "execution_count": null,
   "id": "3985d39a-401c-4aed-8b20-d1fcb9f37804",
   "metadata": {},
   "outputs": [],
   "source": []
  }
 ],
 "metadata": {
  "kernelspec": {
   "display_name": "Python 3",
   "language": "python",
   "name": "python3"
  },
  "language_info": {
   "codemirror_mode": {
    "name": "ipython",
    "version": 3
   },
   "file_extension": ".py",
   "mimetype": "text/x-python",
   "name": "python",
   "nbconvert_exporter": "python",
   "pygments_lexer": "ipython3",
   "version": "3.8.5"
  }
 },
 "nbformat": 4,
 "nbformat_minor": 5
}
